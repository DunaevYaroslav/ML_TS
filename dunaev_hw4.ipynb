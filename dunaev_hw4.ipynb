{
 "cells": [
  {
   "cell_type": "markdown",
   "metadata": {},
   "source": [
    "### Алгоритмы интеллектуальной обработки больших объемов данных\n",
    "## Домашнее задание №4 - Градиентный бустинг\n"
   ]
  },
  {
   "cell_type": "markdown",
   "metadata": {},
   "source": [
    "**Общая информация**\n",
    "\n",
    "**Срок сдачи:** 10 мая 2021, 08:30   \n",
    "**Штраф за опоздание:** -2 балла после 08:30 10 мая, -4 балла после 08:30 17 мая, -6 баллов после 08:30 24 мая, -8 баллов после 08:30 31 мая.\n",
    "\n",
    "При отправлении ДЗ указывайте фамилию в названии файла Присылать ДЗ необходимо в виде ссылки на свой github репозиторий на почту ml1.sphere@mail.ru с указанием темы в следующем формате:\n",
    "[ML0221, Задание 4] Фамилия Имя. \n",
    "\n",
    "\n",
    "Используйте данный Ipython Notebook при оформлении домашнего задания."
   ]
  },
  {
   "cell_type": "markdown",
   "metadata": {},
   "source": [
    "##  Считаем производные для функций потерь (1 балл)"
   ]
  },
  {
   "cell_type": "markdown",
   "metadata": {},
   "source": [
    "Мы будем реализовать градиентный бустинг для 3 функций потерь:\n",
    "\n",
    "1) MSE  $L(a(x_i), y_i) = (y_i - a(x_i)) ^ 2$\n",
    "\n",
    "2) Экспоненциальная  $L(a(x_i), y_i) = exp( -a(x_i) y_i), y_i \\in \\{-1, 1\\}$\n",
    "\n",
    "3) Логистическая  $L(a(x_i), y_i) = \\log (1 + exp( -a(x_i) y_i)), y_i \\in \\{-1, 1\\}$\n",
    "\n",
    "где $a(x_i)$ предсказание бустинга на итом объекте. \n",
    "\n",
    "Для каждой функции потерь напишите таргет, на который будет настраиваться каждое дерево в бустинге. "
   ]
  },
  {
   "cell_type": "markdown",
   "metadata": {},
   "source": [
    "Ваше решение тут"
   ]
  },
  {
   "cell_type": "markdown",
   "metadata": {},
   "source": [
    "##  Реализуем градиентный бустинг (3 балла)"
   ]
  },
  {
   "cell_type": "markdown",
   "metadata": {},
   "source": [
    "Реализуйте класс градиентного бустинга для классификации. Ваша реализация бустинга должна работать по точности не более чем на 5 процентов хуже чем GradientBoostingClassifier из sklearn. \n"
   ]
  },
  {
   "cell_type": "markdown",
   "metadata": {},
   "source": [
    "Детали реализации:\n",
    "\n",
    "-- должно поддерживаться 3 функции потерь\n",
    "\n",
    "-- сами базовые алгоритмы(деревья, линейные модели и тп) реализовать не надо, просто возьмите готовые из sklearn\n",
    "\n",
    "-- в качестве функции потерь для построения одного дерева используйте MSE\n",
    "\n",
    "-- шаг в бустинге можно не подбирать, можно брать константный\n",
    "\n",
    "-- можно брать разные модели в качестве инициализации бустинга\n",
    "\n",
    "-- должны поддерживаться следующие параметры:\n",
    "\n",
    "а) число итераций\n",
    "б) размер шага\n",
    "в) процент случайных фичей при построении одного дерева\n",
    "д) процент случайных объектов при построении одного дерева\n",
    "е) параметры базового алгоритма (передавайте через **kwargs)"
   ]
  },
  {
   "cell_type": "code",
   "execution_count": 1,
   "metadata": {},
   "outputs": [],
   "source": [
    "import numpy as np\n",
    "\n",
    "from sklearn.datasets import load_wine\n",
    "from sklearn.ensemble import GradientBoostingClassifier\n",
    "from sklearn.metrics import accuracy_score\n",
    "from sklearn.model_selection import train_test_split\n",
    "from sklearn.tree import DecisionTreeRegressor"
   ]
  },
  {
   "cell_type": "code",
   "execution_count": 19,
   "metadata": {},
   "outputs": [],
   "source": [
    "class MyGradientBoostingClassifier:\n",
    "\n",
    "    def __init__(self, loss='MSE', learning_rate=0.1, n_estimators=100, \n",
    "                 colsample=1.0, subsample=1.0, *args, **kwargs):\n",
    "        \"\"\"\n",
    "        loss -- один из 3 лоссов:\n",
    "        learning_rate -- шаг бустинга\n",
    "        n_estimators -- число итераций\n",
    "        colsample -- процент рандомных признаков при обучнеии одного алгоритма\n",
    "        subsample -- процент рандомных объектов при обучнеии одного алгоритма\n",
    "        args, kwargs -- параметры  базовых моделей\n",
    "        \"\"\"\n",
    "        # Ваш код здесь\n",
    "        self.learning_rate = learning_rate\n",
    "        self.n_estimators = n_estimators\n",
    "        self.colsample = colsample\n",
    "        self.subsample = subsample\n",
    "        self.params = args\n",
    "        self.kwparams = kwargs\n",
    "        self.preds = None\n",
    "        if loss == 'MSE':\n",
    "            self.__antigr = self.__mse\n",
    "        elif loss == 'exponential':\n",
    "            self.__antigr = self.__exp\n",
    "        elif loss == 'logistic':\n",
    "            self.__antigr = self.__log\n",
    "        self.models = []\n",
    "        self.features = []\n",
    "    \n",
    "    def __mse(self, y, preds):\n",
    "        return 2 * (y - preds)\n",
    "    \n",
    "    def __exp(self, y, preds):\n",
    "        return y * np.exp(-y * preds)\n",
    "    \n",
    "    def __log(self, y, preds):\n",
    "        return y * np.exp(-y * preds) / (1 + np.exp(-y * preds))\n",
    "    \n",
    "    def fit(self, X, y, base_model=DecisionTreeRegressor, init_model=None):\n",
    "        \"\"\"\n",
    "        X -- объекты для обучения:\n",
    "        y -- таргеты для обучения\n",
    "        base_model -- класс базовых моделей, например sklearn.tree.DecisionTreeRegressor\n",
    "        init_model -- класс для первой модели, если None то берем константу (только для посл задания)\n",
    "        \"\"\"\n",
    "        # Ваш код здесь\n",
    "        if init_model is None:\n",
    "            self.init_model = None\n",
    "            self.preds = np.ones(X.shape[0]) / X.shape[0]\n",
    "        else:\n",
    "            model = init_model()\n",
    "            model.fit(X, y)\n",
    "            self.init_model = model\n",
    "            self.preds = model.predict(X)\n",
    "            self.preds = self.preds.astype(float)\n",
    "        \n",
    "        for i in range(self.n_estimators):\n",
    "            features_num = int(self.colsample * X.shape[1])\n",
    "            features = np.random.randint(low=0, high=X.shape[1], size=features_num)\n",
    "            objects_num = int(self.subsample * X.shape[0])\n",
    "            objects = np.random.randint(low=0, high=X.shape[0], size=objects_num)\n",
    "            model = base_model(*self.params, **self.kwparams)\n",
    "            cur_X = X[objects]\n",
    "            model.fit(cur_X[:, features], self.__antigr(y[objects], self.preds[objects]))\n",
    "            self.preds += self.learning_rate * model.predict(X[:, features])\n",
    "            self.models.append(model)\n",
    "            self.features.append(features)\n",
    "        \n",
    "    def predict(self, X):\n",
    "        # Ваш код здесь\n",
    "        preds = None\n",
    "        if self.init_model is None:\n",
    "            preds = np.ones(X.shape[0]) / X.shape[0]\n",
    "        else:\n",
    "            preds = self.init_model.predict(X).astype(float)\n",
    "        for i in range(len(self.models)):\n",
    "            preds += self.learning_rate * self.models[i].predict(X[:, self.features[i]])\n",
    "        return np.around(preds)"
   ]
  },
  {
   "cell_type": "code",
   "execution_count": 20,
   "metadata": {},
   "outputs": [],
   "source": [
    "my_clf = MyGradientBoostingClassifier(n_estimators=5)\n",
    "clf = GradientBoostingClassifier()"
   ]
  },
  {
   "cell_type": "code",
   "execution_count": 21,
   "metadata": {},
   "outputs": [],
   "source": [
    "wine = load_wine()\n",
    "X_train, X_test, y_train, y_test = train_test_split(wine.data, wine.target, test_size=0.1, stratify=wine.target)"
   ]
  },
  {
   "cell_type": "code",
   "execution_count": 22,
   "metadata": {},
   "outputs": [
    {
     "name": "stdout",
     "output_type": "stream",
     "text": [
      "0.9444444444444444\n",
      "0.6666666666666666\n"
     ]
    }
   ],
   "source": [
    "my_clf.fit(X_train, y_train)\n",
    "clf.fit(X_train, y_train)\n",
    "print(accuracy_score(y_pred=clf.predict(X_test), y_true=y_test))\n",
    "print(accuracy_score(y_pred=my_clf.predict(X_test), y_true=y_test))"
   ]
  },
  {
   "cell_type": "markdown",
   "metadata": {},
   "source": [
    "## Подбираем параметры (2 балла)\n",
    "\n",
    "Давайте попробуем применить Ваш бустинг для предсказаний цены домов в Калифорнии. Чтобы можно было попробовтаь разные функции потерь, переведем по порогу таргет в 2 класса: дорогие и дешевые дома."
   ]
  },
  {
   "cell_type": "markdown",
   "metadata": {},
   "source": [
    "В задании нужно\n",
    "\n",
    "1) Построить график точности в зависимости от числа итераций на валидации.\n",
    "\n",
    "2) Подобрать оптимальные параметры Вашего бустинга на валидации. \n"
   ]
  },
  {
   "cell_type": "code",
   "execution_count": 23,
   "metadata": {},
   "outputs": [],
   "source": [
    "from sklearn.datasets import fetch_california_housing\n",
    "X, y = fetch_california_housing(return_X_y=True)"
   ]
  },
  {
   "cell_type": "code",
   "execution_count": 24,
   "metadata": {
    "scrolled": true
   },
   "outputs": [
    {
     "name": "stdout",
     "output_type": "stream",
     "text": [
      "(20640, 8) (20640,)\n"
     ]
    }
   ],
   "source": [
    "# Превращаем регрессию в классификацию\n",
    "y = (y > 2.0).astype(int)\n",
    "print(X.shape, y.shape)"
   ]
  },
  {
   "cell_type": "code",
   "execution_count": 25,
   "metadata": {},
   "outputs": [],
   "source": [
    "from sklearn.model_selection import KFold\n",
    "import matplotlib.pyplot as plt"
   ]
  },
  {
   "cell_type": "code",
   "execution_count": 27,
   "metadata": {},
   "outputs": [
    {
     "name": "stdout",
     "output_type": "stream",
     "text": [
      "0.8647286821705424\n",
      "0.8753391472868218\n",
      "0.8758236434108527\n",
      "0.8715116279069768\n",
      "0.8751937984496123\n",
      "0.874031007751938\n",
      "0.8682655038759691\n",
      "0.864922480620155\n",
      "0.8736918604651164\n"
     ]
    }
   ],
   "source": [
    "score = []\n",
    "for n_estimators in [10, 20, 50, 60, 70, 80, 90, 100, 150]:\n",
    "    cur_score = []\n",
    "    for train, val in KFold(n_splits=5, shuffle=True).split(X, y):\n",
    "        my_clf = MyGradientBoostingClassifier(n_estimators=n_estimators)\n",
    "        my_clf.fit(X[train], y[train])\n",
    "        cur_score.append(accuracy_score(y[val], my_clf.predict(X[val])))\n",
    "    print(np.mean(cur_score))\n",
    "    score.append(np.mean(cur_score))"
   ]
  },
  {
   "cell_type": "code",
   "execution_count": 28,
   "metadata": {},
   "outputs": [
    {
     "data": {
      "image/png": "[encoded data removed]",
      "text/plain": [
       "<Figure size 432x288 with 1 Axes>"
      ]
     },
     "metadata": {
      "needs_background": "light"
     },
     "output_type": "display_data"
    }
   ],
   "source": [
    "plt.plot([10, 20, 50, 60, 70, 80, 90, 100, 150], score)\n",
    "plt.show()"
   ]
  },
  {
   "cell_type": "code",
   "execution_count": 33,
   "metadata": {},
   "outputs": [],
   "source": [
    "n_estimators = 50"
   ]
  },
  {
   "cell_type": "code",
   "execution_count": 34,
   "metadata": {},
   "outputs": [
    {
     "name": "stdout",
     "output_type": "stream",
     "text": [
      "0.8708817829457365\n",
      "0.6017441860465117\n",
      "0.8276647286821704\n"
     ]
    },
    {
     "data": {
      "text/plain": [
       "[0.8708817829457365, 0.6017441860465117, 0.8276647286821704]"
      ]
     },
     "execution_count": 34,
     "metadata": {},
     "output_type": "execute_result"
    }
   ],
   "source": [
    "score = []\n",
    "for loss in ['MSE', 'exponential', 'logistic']:\n",
    "    cur_score = []\n",
    "    for train, val in KFold(n_splits=5, shuffle=True).split(X, y):\n",
    "        my_clf = MyGradientBoostingClassifier(n_estimators=n_estimators, loss=loss)\n",
    "        my_clf.fit(X[train], y[train])\n",
    "        cur_score.append(accuracy_score(y[val], my_clf.predict(X[val])))\n",
    "    print(np.mean(cur_score))\n",
    "    score.append(np.mean(cur_score))\n",
    "score"
   ]
  },
  {
   "cell_type": "code",
   "execution_count": 35,
   "metadata": {},
   "outputs": [],
   "source": [
    "loss = 'MSE'"
   ]
  },
  {
   "cell_type": "code",
   "execution_count": 36,
   "metadata": {},
   "outputs": [
    {
     "name": "stdout",
     "output_type": "stream",
     "text": [
      "0.8127422480620154\n",
      "0.8828003875968993\n",
      "0.8661821705426356\n",
      "0.8368701550387596\n",
      "0.5745155038759691\n",
      "0.002180232558139535\n"
     ]
    }
   ],
   "source": [
    "score = []\n",
    "for learning_rate in [0.01, 0.05, 0.1, 0.2, 0.5, 0.7]:\n",
    "    cur_score = []\n",
    "    for train, val in KFold(n_splits=5, shuffle=True).split(X, y):\n",
    "        my_clf = MyGradientBoostingClassifier(n_estimators=n_estimators, loss=loss, \n",
    "                                              learning_rate=learning_rate)\n",
    "        my_clf.fit(X[train], y[train])\n",
    "        cur_score.append(accuracy_score(y[val], my_clf.predict(X[val])))\n",
    "    print(np.mean(cur_score))\n",
    "    score.append(np.mean(cur_score))"
   ]
  },
  {
   "cell_type": "code",
   "execution_count": 37,
   "metadata": {},
   "outputs": [
    {
     "data": {
      "image/png": "[encoded data removed]",
      "text/plain": [
       "<Figure size 432x288 with 1 Axes>"
      ]
     },
     "metadata": {
      "needs_background": "light"
     },
     "output_type": "display_data"
    }
   ],
   "source": [
    "plt.plot([0.01, 0.05, 0.1, 0.2, 0.5, 0.7], score)\n",
    "plt.show()"
   ]
  },
  {
   "cell_type": "code",
   "execution_count": 38,
   "metadata": {},
   "outputs": [],
   "source": [
    "learning_rate = 0.05"
   ]
  },
  {
   "cell_type": "code",
   "execution_count": 39,
   "metadata": {},
   "outputs": [
    {
     "name": "stdout",
     "output_type": "stream",
     "text": [
      "0.7185077519379844\n",
      "0.8049418604651162\n",
      "0.8705426356589147\n",
      "0.8786337209302326\n",
      "0.8856589147286822\n"
     ]
    },
    {
     "data": {
      "text/plain": [
       "[0.7185077519379844,\n",
       " 0.8049418604651162,\n",
       " 0.8705426356589147,\n",
       " 0.8786337209302326,\n",
       " 0.8856589147286822]"
      ]
     },
     "execution_count": 39,
     "metadata": {},
     "output_type": "execute_result"
    }
   ],
   "source": [
    "score = []\n",
    "for colsample in [0.2, 0.3, 0.5, 0.7, 1.0]:\n",
    "    cur_score = []\n",
    "    for train, val in KFold(n_splits=5, shuffle=True).split(X, y):\n",
    "        my_clf = MyGradientBoostingClassifier(n_estimators=n_estimators, loss=loss, \n",
    "                                        learning_rate=learning_rate, colsample=colsample)\n",
    "        my_clf.fit(X[train], y[train])\n",
    "        cur_score.append(accuracy_score(y[val], my_clf.predict(X[val])))\n",
    "    print(np.mean(cur_score))\n",
    "    score.append(np.mean(cur_score))\n",
    "score"
   ]
  },
  {
   "cell_type": "code",
   "execution_count": 40,
   "metadata": {},
   "outputs": [
    {
     "data": {
      "image/png": "[encoded data removed]",
      "text/plain": [
       "<Figure size 432x288 with 1 Axes>"
      ]
     },
     "metadata": {
      "needs_background": "light"
     },
     "output_type": "display_data"
    }
   ],
   "source": [
    "plt.plot([0.2, 0.3, 0.5, 0.7, 1.0], score)\n",
    "plt.show()"
   ]
  },
  {
   "cell_type": "code",
   "execution_count": 41,
   "metadata": {},
   "outputs": [],
   "source": [
    "colsample = 1.0"
   ]
  },
  {
   "cell_type": "code",
   "execution_count": 42,
   "metadata": {},
   "outputs": [
    {
     "name": "stdout",
     "output_type": "stream",
     "text": [
      "0.8777131782945737\n",
      "0.8785852713178295\n",
      "0.883236434108527\n",
      "0.8820736434108525\n",
      "0.8886627906976745\n"
     ]
    },
    {
     "data": {
      "text/plain": [
       "[0.8777131782945737,\n",
       " 0.8785852713178295,\n",
       " 0.883236434108527,\n",
       " 0.8820736434108525,\n",
       " 0.8886627906976745]"
      ]
     },
     "execution_count": 42,
     "metadata": {},
     "output_type": "execute_result"
    }
   ],
   "source": [
    "score = []\n",
    "for subsample in [0.2, 0.3, 0.5, 0.7, 1.0]:\n",
    "    cur_score = []\n",
    "    for train, val in KFold(n_splits=5, shuffle=True).split(X, y):\n",
    "        my_clf = MyGradientBoostingClassifier(n_estimators=n_estimators, loss=loss, \n",
    "                    learning_rate=learning_rate, colsample=colsample, subsample=subsample)\n",
    "        my_clf.fit(X[train], y[train])\n",
    "        cur_score.append(accuracy_score(y[val], my_clf.predict(X[val])))\n",
    "    print(np.mean(cur_score))\n",
    "    score.append(np.mean(cur_score))\n",
    "score"
   ]
  },
  {
   "cell_type": "code",
   "execution_count": 43,
   "metadata": {},
   "outputs": [
    {
     "data": {
      "image/png": "[encoded data removed]",
      "text/plain": [
       "<Figure size 432x288 with 1 Axes>"
      ]
     },
     "metadata": {
      "needs_background": "light"
     },
     "output_type": "display_data"
    }
   ],
   "source": [
    "plt.plot([0.2, 0.3, 0.5, 0.7, 1.0], score)\n",
    "plt.show()"
   ]
  },
  {
   "cell_type": "code",
   "execution_count": 44,
   "metadata": {},
   "outputs": [],
   "source": [
    "subsample = 1.0"
   ]
  },
  {
   "cell_type": "markdown",
   "metadata": {},
   "source": [
    "## BooBag BagBoo (1 балл)\n",
    "\n"
   ]
  },
  {
   "cell_type": "markdown",
   "metadata": {},
   "source": [
    "Попробуем объединить бустинг и бэгинг. Давайте\n",
    "\n",
    "1) в качестве базовой модели брать не дерево решений, а случайный лес (из sklearn)\n",
    "\n",
    "2) обучать N бустингов на бустрапированной выборке, а затем предикт усреднять"
   ]
  },
  {
   "cell_type": "markdown",
   "metadata": {},
   "source": [
    "Попробуйте обе этих стратегии на данных из прошлого задания. Получилось ли улучшить качество? Почему?"
   ]
  },
  {
   "cell_type": "code",
   "execution_count": 45,
   "metadata": {},
   "outputs": [],
   "source": [
    "from sklearn.ensemble import RandomForestRegressor"
   ]
  },
  {
   "cell_type": "code",
   "execution_count": 50,
   "metadata": {},
   "outputs": [
    {
     "data": {
      "text/plain": [
       "0.978843669250646"
      ]
     },
     "execution_count": 50,
     "metadata": {},
     "output_type": "execute_result"
    }
   ],
   "source": [
    "X_train, X_test, y_train, y_test = train_test_split(X, y, test_size=0.3)\n",
    "my_clf = MyGradientBoostingClassifier(n_estimators=n_estimators, loss=loss, \n",
    "    learning_rate=learning_rate, colsample=colsample, subsample=subsample)\n",
    "my_clf.fit(X[train], y[train], base_model=RandomForestRegressor)\n",
    "accuracy_score(y_test, my_clf.predict(X_test))"
   ]
  },
  {
   "cell_type": "code",
   "execution_count": 52,
   "metadata": {},
   "outputs": [
    {
     "data": {
      "text/plain": [
       "0.8460917312661499"
      ]
     },
     "execution_count": 52,
     "metadata": {},
     "output_type": "execute_result"
    }
   ],
   "source": [
    "N = 100\n",
    "preds = np.zeros(y_test.shape)\n",
    "for i in range(N):\n",
    "    objects = np.random.randint(low=0, high=X_train.shape[0], size=X_train.shape[0] // N)\n",
    "    my_clf = MyGradientBoostingClassifier(n_estimators=n_estimators, loss=loss, \n",
    "                    learning_rate=learning_rate, colsample=colsample, subsample=subsample)\n",
    "    my_clf.fit(X_train[objects], y_train[objects])\n",
    "    preds += my_clf.predict(X_test)\n",
    "accuracy_score(y_test, (preds / N) >= 0.5)"
   ]
  },
  {
   "cell_type": "markdown",
   "metadata": {
    "collapsed": true
   },
   "source": [
    "## Умная инициализация (1 балл)\n",
    "\n",
    "Попробуйте брать в качестве инициализации бустинга не константу, а какой-то алгоритм и уже от его предикта стартовать итерации бустинга. Попробуйте разные модели из sklearn: линейные модели, рандом форест, svm..\n",
    "\n",
    "Получилось ли улучшить качество? Почему?\n",
    "\n"
   ]
  },
  {
   "cell_type": "code",
   "execution_count": 54,
   "metadata": {},
   "outputs": [
    {
     "data": {
      "text/plain": [
       "0.6497093023255814"
      ]
     },
     "execution_count": 54,
     "metadata": {},
     "output_type": "execute_result"
    }
   ],
   "source": [
    "from sklearn.neighbors import KNeighborsClassifier\n",
    "\n",
    "my_clf = MyGradientBoostingClassifier(n_estimators=n_estimators, loss=loss, \n",
    "                    learning_rate=learning_rate, colsample=colsample, subsample=subsample)\n",
    "my_clf.fit(X_train, y_train, init_model=KNeighborsClassifier)\n",
    "accuracy_score(y_test, my_clf.predict(X_test))"
   ]
  },
  {
   "cell_type": "code",
   "execution_count": 55,
   "metadata": {},
   "outputs": [
    {
     "data": {
      "text/plain": [
       "0.8280038759689923"
      ]
     },
     "execution_count": 55,
     "metadata": {},
     "output_type": "execute_result"
    }
   ],
   "source": [
    "from sklearn.tree import DecisionTreeClassifier\n",
    "\n",
    "my_clf = MyGradientBoostingClassifier(n_estimators=n_estimators, loss=loss, \n",
    "                    learning_rate=learning_rate, colsample=colsample, subsample=subsample)\n",
    "my_clf.fit(X_train, y_train, init_model=DecisionTreeClassifier)\n",
    "accuracy_score(y_test, my_clf.predict(X_test))"
   ]
  },
  {
   "cell_type": "code",
   "execution_count": 56,
   "metadata": {},
   "outputs": [
    {
     "data": {
      "text/plain": [
       "0.838016795865633"
      ]
     },
     "execution_count": 56,
     "metadata": {},
     "output_type": "execute_result"
    }
   ],
   "source": [
    "from sklearn.linear_model import SGDClassifier\n",
    "\n",
    "my_clf = MyGradientBoostingClassifier(n_estimators=n_estimators, loss=loss, \n",
    "                    learning_rate=learning_rate, colsample=colsample, subsample=subsample)\n",
    "my_clf.fit(X_train, y_train, init_model=SGDClassifier)\n",
    "accuracy_score(y_test, my_clf.predict(X_test))"
   ]
  },
  {
   "cell_type": "code",
   "execution_count": 57,
   "metadata": {},
   "outputs": [
    {
     "name": "stderr",
     "output_type": "stream",
     "text": [
      "/Users/yaroslav/opt/anaconda3/lib/python3.8/site-packages/sklearn/svm/_base.py:976: ConvergenceWarning: Liblinear failed to converge, increase the number of iterations.\n",
      "  warnings.warn(\"Liblinear failed to converge, increase \"\n"
     ]
    },
    {
     "data": {
      "text/plain": [
       "0.8667635658914729"
      ]
     },
     "execution_count": 57,
     "metadata": {},
     "output_type": "execute_result"
    }
   ],
   "source": [
    "from sklearn.svm import LinearSVC\n",
    "\n",
    "my_clf = MyGradientBoostingClassifier(n_estimators=n_estimators, loss=loss, \n",
    "                    learning_rate=learning_rate, colsample=colsample, subsample=subsample)\n",
    "my_clf.fit(X_train, y_train, init_model=LinearSVC)\n",
    "accuracy_score(y_test, my_clf.predict(X_test))"
   ]
  },
  {
   "cell_type": "code",
   "execution_count": 58,
   "metadata": {},
   "outputs": [
    {
     "data": {
      "text/plain": [
       "0.8924418604651163"
      ]
     },
     "execution_count": 58,
     "metadata": {},
     "output_type": "execute_result"
    }
   ],
   "source": [
    "from sklearn.linear_model import LinearRegression\n",
    "\n",
    "my_clf = MyGradientBoostingClassifier(n_estimators=n_estimators, loss=loss, \n",
    "                    learning_rate=learning_rate, colsample=colsample, subsample=subsample)\n",
    "my_clf.fit(X_train, y_train, init_model=LinearRegression)\n",
    "accuracy_score(y_test, my_clf.predict(X_test))"
   ]
  },
  {
   "cell_type": "code",
   "execution_count": 59,
   "metadata": {},
   "outputs": [
    {
     "data": {
      "text/plain": [
       "0.8875968992248062"
      ]
     },
     "execution_count": 59,
     "metadata": {},
     "output_type": "execute_result"
    }
   ],
   "source": [
    "my_clf = MyGradientBoostingClassifier(n_estimators=n_estimators, loss=loss, \n",
    "                    learning_rate=learning_rate, colsample=colsample, subsample=subsample)\n",
    "my_clf.fit(X_train, y_train, init_model=RandomForestRegressor)\n",
    "accuracy_score(y_test, my_clf.predict(X_test))"
   ]
  },
  {
   "cell_type": "markdown",
   "metadata": {},
   "source": [
    "Качество зависит от модели, которой мы инициализируем бустинг. Какие-то модели лучше описывают наши данные, поэотму у случайного леса и knn результаты лучше"
   ]
  },
  {
   "cell_type": "markdown",
   "metadata": {},
   "source": [
    "## Фидбек (бесценно)"
   ]
  },
  {
   "cell_type": "markdown",
   "metadata": {},
   "source": [
    "* Какие аспекты обучения  ансамблей Вам показались непонятными? Какое место стоит дополнительно объяснить?"
   ]
  },
  {
   "cell_type": "markdown",
   "metadata": {},
   "source": [
    "### Ваш ответ здесь"
   ]
  },
  {
   "cell_type": "markdown",
   "metadata": {},
   "source": [
    "* Здесь Вы можете оставить отзыв о этой домашней работе или о всем курсе."
   ]
  },
  {
   "cell_type": "markdown",
   "metadata": {},
   "source": [
    "### ВАШ ОТЗЫВ ЗДЕСЬ\n",
    "\n"
   ]
  },
  {
   "cell_type": "code",
   "execution_count": null,
   "metadata": {
    "collapsed": true
   },
   "outputs": [],
   "source": []
  },
  {
   "cell_type": "code",
   "execution_count": null,
   "metadata": {
    "collapsed": true
   },
   "outputs": [],
   "source": []
  }
 ],
 "metadata": {
  "anaconda-cloud": {},
  "kernelspec": {
   "display_name": "Python 3",
   "language": "python",
   "name": "python3"
  },
  "language_info": {
   "codemirror_mode": {
    "name": "ipython",
    "version": 3
   },
   "file_extension": ".py",
   "mimetype": "text/x-python",
   "name": "python",
   "nbconvert_exporter": "python",
   "pygments_lexer": "ipython3",
   "version": "3.8.3"
  }
 },
 "nbformat": 4,
 "nbformat_minor": 2
}
